{
  "nbformat": 4,
  "nbformat_minor": 0,
  "metadata": {
    "kernelspec": {
      "display_name": "Python 3",
      "language": "python",
      "name": "python3"
    },
    "language_info": {
      "codemirror_mode": {
        "name": "ipython",
        "version": 3
      },
      "file_extension": ".py",
      "mimetype": "text/x-python",
      "name": "python",
      "nbconvert_exporter": "python",
      "pygments_lexer": "ipython3",
      "version": "3.7.6"
    },
    "colab": {
      "name": "Firstname_Lastname.ipynb",
      "provenance": [],
      "include_colab_link": true
    }
  },
  "cells": [
    {
      "cell_type": "markdown",
      "metadata": {
        "id": "view-in-github",
        "colab_type": "text"
      },
      "source": [
        "<a href=\"https://colab.research.google.com/github/RohitPr/Data-Engineering-Projects/blob/main/sales_data.ipynb\" target=\"_parent\"><img src=\"https://colab.research.google.com/assets/colab-badge.svg\" alt=\"Open In Colab\"/></a>"
      ]
    },
    {
      "cell_type": "markdown",
      "metadata": {
        "id": "yld-UsdSK_6r"
      },
      "source": [
        "DATA ENGINEER - PYTHON PYSPARK"
      ]
    },
    {
      "cell_type": "markdown",
      "metadata": {
        "id": "i13qWpFKK_6v"
      },
      "source": [
        "This test consits of fifteen problems. You are required to write your code in cell below each problem and output the result in cell next to it "
      ]
    },
    {
      "cell_type": "markdown",
      "metadata": {
        "id": "nfjUFj3sK_6w"
      },
      "source": [
        "Total Time Allowed: 3 hours"
      ]
    },
    {
      "cell_type": "markdown",
      "metadata": {
        "id": "4V763XKiK_6x"
      },
      "source": [
        "Style1: 10 markes each shall be awarded for correct solution coded in object oriented paradign in Python3 <br>\n",
        "Style2: 15 marks each shall be awarded for correct solution coded in functional programming paradigm (lamda, map, reduce, filter etc) in Python3 <br>\n",
        "Style3: 20 marks each shall be awarded for correct solution coded in functional programming paradigm (dataframes, map, reduce, filter etc) in PySpark3"
      ]
    },
    {
      "cell_type": "markdown",
      "metadata": {
        "id": "vvBHXkSDK_6x"
      },
      "source": [
        "Rename and Save the notebook with your FirstName_LastName (eg. Sahil_Gupta.ipynb)"
      ]
    },
    {
      "cell_type": "code",
      "metadata": {
        "id": "MoBLVdYZK_6y"
      },
      "source": [
        "#Your FullName\n",
        "#Your Email\n",
        "#Your Mobile No"
      ],
      "execution_count": 2,
      "outputs": []
    },
    {
      "cell_type": "markdown",
      "metadata": {
        "id": "WRahsDrWK_6z"
      },
      "source": [
        "********************************************* Test starts here **************************************************"
      ]
    },
    {
      "cell_type": "markdown",
      "metadata": {
        "id": "q6m5SjKWK_60"
      },
      "source": [
        "INSTRUCTIONS:\n",
        "    1. You are required to download and import five CSV files, one json file and one xml file\n",
        "    2. You would need to understand business involved behind CRM database tables. This is important\n",
        "    3. Code must be in Python3/PySpark3\n",
        "    4. Either your code should output something or leave the comment \"#solution code here\" as it is. We shall use 'Run All' in notebook and it shouldn't result error\n",
        "    5. Test the entire notebook before uploading to Google Form provided\n",
        "    6. You can use any Python3 library (two are imported already) or PySpark3 library. There is no restriction\n",
        "    7. Output fieldname to be displayed are marked as single quaotes '' in problem statement. You should use same field alias names whereever required\n",
        "    8. Notation for dataframe and/or array must be local to a problem's solution. Eg. Dataframe \"test\" for problem 8 should be df_prb8_test"
      ]
    },
    {
      "cell_type": "code",
      "metadata": {
        "id": "cAx2ZT8vK_61"
      },
      "source": [
        "import numpy as np\n",
        "import pandas as pd"
      ],
      "execution_count": 3,
      "outputs": []
    },
    {
      "cell_type": "code",
      "metadata": {
        "id": "GHdr7orCK_62"
      },
      "source": [
        "#import CSVs here\n",
        "#import JSONs here"
      ],
      "execution_count": 4,
      "outputs": []
    },
    {
      "cell_type": "markdown",
      "metadata": {
        "id": "1E6h6B4sK_62"
      },
      "source": [
        "Refer & Use five CSVs to answer problem 1-10 below"
      ]
    },
    {
      "cell_type": "markdown",
      "metadata": {
        "id": "Ue534zhhK_63"
      },
      "source": [
        "PROBLEM 1: Display 'Manager' and 'Grand Total Sales', for sales done by the sales agents reporting these managers"
      ]
    },
    {
      "cell_type": "code",
      "metadata": {
        "id": "PeHRSA2WK_63"
      },
      "source": [
        "#solution code here"
      ],
      "execution_count": 5,
      "outputs": []
    },
    {
      "cell_type": "markdown",
      "metadata": {
        "id": "aVPt3NeJK_63"
      },
      "source": [
        "PROBLEM 2: Display 'Sales Agents' and 'Sales' for those sales where product sold at profit"
      ]
    },
    {
      "cell_type": "code",
      "metadata": {
        "id": "ypPfW7YuK_64"
      },
      "source": [
        "#solution code here"
      ],
      "execution_count": 6,
      "outputs": []
    },
    {
      "cell_type": "markdown",
      "metadata": {
        "id": "sHDKqT-5K_64"
      },
      "source": [
        "PROBLEM 3: Display the 'Opportunity ID' and 'Days Taken to Close', for opportunities those got closed within a month"
      ]
    },
    {
      "cell_type": "code",
      "metadata": {
        "id": "XSdF6nnVK_64"
      },
      "source": [
        "#solution code here"
      ],
      "execution_count": 7,
      "outputs": []
    },
    {
      "cell_type": "markdown",
      "metadata": {
        "id": "A-WSu-9oK_64"
      },
      "source": [
        "PROBLEM 4: Display product(s) got maximum leads (by count) generated from paid source"
      ]
    },
    {
      "cell_type": "code",
      "metadata": {
        "id": "WDBgs5DKK_65"
      },
      "source": [
        "#solution code here"
      ],
      "execution_count": 8,
      "outputs": []
    },
    {
      "cell_type": "markdown",
      "metadata": {
        "id": "kD4uRdQSK_65"
      },
      "source": [
        "PROBLEM 5: Display 'Sales Agent' and 'Opportunity Count', for those sales agents who lost atleast two opportunties"
      ]
    },
    {
      "cell_type": "code",
      "metadata": {
        "id": "DRZN5mnZK_65"
      },
      "source": [
        "#solution code here"
      ],
      "execution_count": 9,
      "outputs": []
    },
    {
      "cell_type": "markdown",
      "metadata": {
        "id": "yf5JxzelK_65"
      },
      "source": [
        "PROBLEM 6: Display in ascending order of revenue, 'Account' and 'Revenue' for telecom accounts "
      ]
    },
    {
      "cell_type": "code",
      "metadata": {
        "id": "NfeMMUl4K_66"
      },
      "source": [
        "#solution code here"
      ],
      "execution_count": 10,
      "outputs": []
    },
    {
      "cell_type": "markdown",
      "metadata": {
        "id": "Npk_kK_ZK_66"
      },
      "source": [
        "PROBLEM 7: Display by revenue generated, bottom five 'Industries' and 'Revenue'"
      ]
    },
    {
      "cell_type": "code",
      "metadata": {
        "id": "8qGazJGRK_66"
      },
      "source": [
        "#solution code here"
      ],
      "execution_count": 11,
      "outputs": []
    },
    {
      "cell_type": "markdown",
      "metadata": {
        "id": "7fs-eCnoK_66"
      },
      "source": [
        "PROBLEM 8: Display 'Month of Year' vs 'Sales', for GTXBasic. NOTE: \"Month of Year\" means month year (eg. Jan) and \"Month\" means month (eg. Jan 2020, Jan 2021 etc)"
      ]
    },
    {
      "cell_type": "code",
      "metadata": {
        "id": "2nBN8QNFK_66"
      },
      "source": [
        "#solution code here"
      ],
      "execution_count": 12,
      "outputs": []
    },
    {
      "cell_type": "markdown",
      "metadata": {
        "id": "n-HluYCuK_67"
      },
      "source": [
        "PROBLEM 9: Which sales agent(s) never lost a deal. Display as a dictionary {sales agent:sales}"
      ]
    },
    {
      "cell_type": "code",
      "metadata": {
        "id": "tdyOTywoK_67"
      },
      "source": [
        "#solution code here"
      ],
      "execution_count": 13,
      "outputs": []
    },
    {
      "cell_type": "markdown",
      "metadata": {
        "id": "1L_7iIjNK_67"
      },
      "source": [
        "PROBLEM 10: Display 'Sales Agents', 'Product', and 'Sales', for those sales agents who closed more than one deal on same day"
      ]
    },
    {
      "cell_type": "code",
      "metadata": {
        "id": "X9eoGmTVK_67"
      },
      "source": [
        "#solution code here"
      ],
      "execution_count": 14,
      "outputs": []
    },
    {
      "cell_type": "markdown",
      "metadata": {
        "id": "ovtZJG64K_67"
      },
      "source": [
        "Refer & Use Orchestra.json to answer problem 11-13 below"
      ]
    },
    {
      "cell_type": "markdown",
      "metadata": {
        "id": "9iba_Y2mK_67"
      },
      "source": [
        "PROBLEM 11: Display the instrument played by Lehmann Caroline"
      ]
    },
    {
      "cell_type": "code",
      "metadata": {
        "id": "hS35RgNoK_68"
      },
      "source": [
        "#solution code here"
      ],
      "execution_count": 15,
      "outputs": []
    },
    {
      "cell_type": "markdown",
      "metadata": {
        "id": "BAVAP_OrK_68"
      },
      "source": [
        "PROBLEM 12: Display all vocalists"
      ]
    },
    {
      "cell_type": "code",
      "metadata": {
        "id": "6kxPFNqmK_68"
      },
      "source": [
        "#solution code here"
      ],
      "execution_count": 16,
      "outputs": []
    },
    {
      "cell_type": "markdown",
      "metadata": {
        "id": "qp-l9xB9K_68"
      },
      "source": [
        "PROBLEM 13: Display orchestra played under program id 2561"
      ]
    },
    {
      "cell_type": "code",
      "metadata": {
        "id": "HNWDqdODK_68"
      },
      "source": [
        "#solution code here"
      ],
      "execution_count": 17,
      "outputs": []
    },
    {
      "cell_type": "markdown",
      "metadata": {
        "id": "Cb7GlYvxK_68"
      },
      "source": [
        "Refer & Use Orchestra.xml to answer problem 14-15 below"
      ]
    },
    {
      "cell_type": "markdown",
      "metadata": {
        "id": "osUIciB9K_68"
      },
      "source": [
        "PROBLEM 14: Display locations used for event at time 8:15 PM"
      ]
    },
    {
      "cell_type": "code",
      "metadata": {
        "id": "9QICDDfiK_68"
      },
      "source": [
        "#solution code here"
      ],
      "execution_count": 18,
      "outputs": []
    },
    {
      "cell_type": "markdown",
      "metadata": {
        "id": "J78ywAmDK_69"
      },
      "source": [
        "PROBLEM 15: Display total number of programs"
      ]
    },
    {
      "cell_type": "code",
      "metadata": {
        "id": "mjcSPH-LK_69"
      },
      "source": [
        "#solution code here"
      ],
      "execution_count": 19,
      "outputs": []
    },
    {
      "cell_type": "markdown",
      "metadata": {
        "id": "MzRD3W0gK_69"
      },
      "source": [
        "********************************************* Test ends here **************************************************"
      ]
    }
  ]
}